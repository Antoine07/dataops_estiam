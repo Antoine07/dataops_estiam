{
 "cells": [
  {
   "cell_type": "code",
   "execution_count": 1,
   "id": "881f3dce-a2d5-440b-bea8-124e46bcc6d6",
   "metadata": {},
   "outputs": [],
   "source": [
    "import numpy as np"
   ]
  },
  {
   "cell_type": "code",
   "execution_count": 17,
   "id": "7bf64c36-5d57-4d67-9e1d-33024a08e4c6",
   "metadata": {},
   "outputs": [],
   "source": [
    "january = np.array([-2,  5, -5,  6, -2,  0,  6,  2,  8,  0,  6, -1,  3,  3,  7,  0, -5,\n",
    "        7,  4,  7,  8, -1,  5, -2,  3, -3, -2,  7,  8,  4,  2], dtype='float64')\n"
   ]
  },
  {
   "cell_type": "code",
   "execution_count": 18,
   "id": "cd550a7b-d956-480d-8c5d-7f72a63f4b3d",
   "metadata": {},
   "outputs": [
    {
     "data": {
      "text/plain": [
       "array([5., 6., 6., 2., 8., 6., 3., 3., 7., 7., 4., 7., 8., 5., 3., 7., 8.,\n",
       "       4., 2.])"
      ]
     },
     "execution_count": 18,
     "metadata": {},
     "output_type": "execute_result"
    }
   ],
   "source": [
    "# 1. Donnez toutes les températures qui sont supérieures à 0.\n",
    "mask_temp_postive = january > 0\n",
    "# mask\n",
    "january[mask_temp_postive]"
   ]
  },
  {
   "cell_type": "code",
   "execution_count": 7,
   "id": "3cef1d1d-1827-4516-bd0f-6c95060a6709",
   "metadata": {},
   "outputs": [
    {
     "data": {
      "text/plain": [
       "np.True_"
      ]
     },
     "execution_count": 7,
     "metadata": {},
     "output_type": "execute_result"
    }
   ],
   "source": [
    "# 2. Comparez les températures supérieures et inférieures à 0.\"\n",
    "\n",
    "# y a t il plus de valeurs positives que de valeurs négatives \n",
    "np.sum(january > 0) > np.sum(january <= 0)"
   ]
  },
  {
   "cell_type": "code",
   "execution_count": 11,
   "id": "2c1882ff-aed0-450f-b24e-00ba2d07dc2f",
   "metadata": {},
   "outputs": [
    {
     "data": {
      "text/plain": [
       "np.float64(61.3)"
      ]
     },
     "execution_count": 11,
     "metadata": {},
     "output_type": "execute_result"
    }
   ],
   "source": [
    "# 3. Donnez le pourcentage des températures positives sur le mois.\n",
    "\n",
    "round( ( np.sum(january > 0) / len(january))*100, 1 )"
   ]
  },
  {
   "cell_type": "markdown",
   "id": "b22945a1-114f-421f-bb98-53f2005b1685",
   "metadata": {},
   "source": [
    "### 4. Créez un tableau days pour les jours du mois et donnez les jours pour lesquels la température était supérieure à 0.\""
   ]
  },
  {
   "cell_type": "code",
   "execution_count": 14,
   "id": "ce4f9ff1-81e3-462b-b145-fe108f8df856",
   "metadata": {},
   "outputs": [
    {
     "data": {
      "text/plain": [
       "array([ 1,  2,  3,  4,  5,  6,  7,  8,  9, 10, 11, 12, 13, 14, 15, 16, 17,\n",
       "       18, 19, 20, 21, 22, 23, 24, 25, 26, 27, 28, 29, 30, 31])"
      ]
     },
     "execution_count": 14,
     "metadata": {},
     "output_type": "execute_result"
    }
   ],
   "source": [
    "days = np.arange( 1, len(january) + 1  )\n",
    "days"
   ]
  },
  {
   "cell_type": "code",
   "execution_count": 19,
   "id": "db3c9190-260d-421e-9f5d-636a63a3b206",
   "metadata": {},
   "outputs": [
    {
     "data": {
      "text/plain": [
       "array([ 2,  4,  7,  8,  9, 11, 13, 14, 15, 18, 19, 20, 21, 23, 25, 28, 29,\n",
       "       30, 31])"
      ]
     },
     "execution_count": 19,
     "metadata": {},
     "output_type": "execute_result"
    }
   ],
   "source": [
    "# Les jours pour lesquels la température étaient positives\n",
    "days[ mask_temp_postive ]"
   ]
  },
  {
   "cell_type": "code",
   "execution_count": null,
   "id": "b86edfc8-c9b4-4bda-8653-c01493070f35",
   "metadata": {},
   "outputs": [],
   "source": [
    "# 5. Donnez toutes les températures supérieures à 0 à partir du dixième jour du mois."
   ]
  },
  {
   "cell_type": "code",
   "execution_count": 23,
   "id": "cdd250a7-274d-4255-a318-1c2aecf2e060",
   "metadata": {},
   "outputs": [
    {
     "name": "stdout",
     "output_type": "stream",
     "text": [
      "[False False False False False False False False False  True  True  True\n",
      "  True  True  True  True  True  True  True  True  True  True  True  True\n",
      "  True  True  True  True  True  True  True]\n",
      "[False False False False False False False False False False  True False\n",
      "  True  True  True False False  True  True  True  True False  True False\n",
      "  True False False  True  True  True  True]\n"
     ]
    }
   ],
   "source": [
    "# print( (days >= 10 ) )\n",
    "print( (days >= 10 ) & mask_temp_postive )\n",
    "mask_temp_days = (days >= 10 ) & mask_temp_postive "
   ]
  },
  {
   "cell_type": "code",
   "execution_count": 25,
   "id": "7f8ad2bb-7f86-4f36-9278-eef1969b0b68",
   "metadata": {},
   "outputs": [
    {
     "name": "stdout",
     "output_type": "stream",
     "text": [
      "[6. 3. 3. 7. 7. 4. 7. 8. 5. 3. 7. 8. 4. 2.]\n",
      "[11 13 14 15 18 19 20 21 23 25 28 29 30 31]\n"
     ]
    }
   ],
   "source": [
    "print( january[mask_temp_days] )\n",
    "print( days[mask_temp_days] )"
   ]
  },
  {
   "cell_type": "code",
   "execution_count": 26,
   "id": "e65b409d-e9de-4c2a-b22a-078300d4c9d8",
   "metadata": {},
   "outputs": [
    {
     "data": {
      "text/plain": [
       "array([6., 3., 3., 7., 7., 4., 7., 8., 5., 3., 7., 8., 4., 2.])"
      ]
     },
     "execution_count": 26,
     "metadata": {},
     "output_type": "execute_result"
    }
   ],
   "source": [
    "# une autre manière de faire \n",
    "january[9:][ january[9:] > 0 ]"
   ]
  },
  {
   "cell_type": "code",
   "execution_count": 29,
   "id": "1520f4b1-2e38-45e7-ade0-3a5813581fbe",
   "metadata": {},
   "outputs": [],
   "source": [
    "# permet de rassembler les valeurs \n",
    "# list( zip( january[mask_temp_days],  days[mask_temp_days] ) )"
   ]
  },
  {
   "cell_type": "code",
   "execution_count": 30,
   "id": "02de118c-793b-43a0-9352-f6d0d04d38f2",
   "metadata": {},
   "outputs": [],
   "source": [
    "med = np.median( january ) "
   ]
  },
  {
   "cell_type": "code",
   "execution_count": 31,
   "id": "c1c4de28-383e-4a7d-86b6-a7ff9824c561",
   "metadata": {},
   "outputs": [],
   "source": [
    "january[ january < 0 ] = med # assigné la médiane au valeurs négative "
   ]
  },
  {
   "cell_type": "code",
   "execution_count": 32,
   "id": "07c59868-3f4e-44f9-996f-55905395cd56",
   "metadata": {},
   "outputs": [
    {
     "data": {
      "text/plain": [
       "array([3., 5., 3., 6., 3., 0., 6., 2., 8., 0., 6., 3., 3., 3., 7., 0., 3.,\n",
       "       7., 4., 7., 8., 3., 5., 3., 3., 3., 3., 7., 8., 4., 2.])"
      ]
     },
     "execution_count": 32,
     "metadata": {},
     "output_type": "execute_result"
    }
   ],
   "source": [
    "january"
   ]
  },
  {
   "cell_type": "code",
   "execution_count": null,
   "id": "59bb17ae-a2e6-4f70-8d7f-7ca422f3bdbc",
   "metadata": {},
   "outputs": [],
   "source": []
  }
 ],
 "metadata": {
  "kernelspec": {
   "display_name": "Python 3 (ipykernel)",
   "language": "python",
   "name": "python3"
  },
  "language_info": {
   "codemirror_mode": {
    "name": "ipython",
    "version": 3
   },
   "file_extension": ".py",
   "mimetype": "text/x-python",
   "name": "python",
   "nbconvert_exporter": "python",
   "pygments_lexer": "ipython3",
   "version": "3.13.5"
  }
 },
 "nbformat": 4,
 "nbformat_minor": 5
}
