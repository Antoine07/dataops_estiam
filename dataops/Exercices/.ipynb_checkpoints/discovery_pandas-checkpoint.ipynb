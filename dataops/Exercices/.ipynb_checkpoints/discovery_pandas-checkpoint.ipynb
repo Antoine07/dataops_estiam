{
 "cells": [
  {
   "cell_type": "code",
   "execution_count": 2,
   "id": "a44b5d68-4f61-4fa0-a160-80f72c3be43e",
   "metadata": {},
   "outputs": [],
   "source": [
    "import pandas as pd"
   ]
  },
  {
   "cell_type": "code",
   "execution_count": 4,
   "id": "11e6ee70-0002-48eb-8dad-ce3ac7efed12",
   "metadata": {},
   "outputs": [
    {
     "name": "stdout",
     "output_type": "stream",
     "text": [
      "0    10\n",
      "1    20\n",
      "2    30\n",
      "3    40\n",
      "dtype: int64\n"
     ]
    }
   ],
   "source": [
    "s = pd.Series([10, 20, 30, 40])\n",
    "print(s)"
   ]
  },
  {
   "cell_type": "code",
   "execution_count": 5,
   "id": "25f54197-c410-4e50-913f-95603f1b9396",
   "metadata": {},
   "outputs": [],
   "source": [
    "data = {\n",
    "    \"Nom\": [\"Alice\", \"Bob\", \"Charlie\"],\n",
    "    \"Age\": [25, 30, 35],\n",
    "    \"Score\": [85, 90, 95]\n",
    "}"
   ]
  },
  {
   "cell_type": "code",
   "execution_count": 6,
   "id": "3528305c-0f19-4d04-abdb-1e0c4b6f7ccd",
   "metadata": {},
   "outputs": [],
   "source": [
    "df = pd.DataFrame(data)"
   ]
  },
  {
   "cell_type": "code",
   "execution_count": 7,
   "id": "ac2dffd7-2016-45d9-a637-d8a29f4e14b2",
   "metadata": {},
   "outputs": [
    {
     "data": {
      "text/html": [
       "<div>\n",
       "<style scoped>\n",
       "    .dataframe tbody tr th:only-of-type {\n",
       "        vertical-align: middle;\n",
       "    }\n",
       "\n",
       "    .dataframe tbody tr th {\n",
       "        vertical-align: top;\n",
       "    }\n",
       "\n",
       "    .dataframe thead th {\n",
       "        text-align: right;\n",
       "    }\n",
       "</style>\n",
       "<table border=\"1\" class=\"dataframe\">\n",
       "  <thead>\n",
       "    <tr style=\"text-align: right;\">\n",
       "      <th></th>\n",
       "      <th>Nom</th>\n",
       "      <th>Age</th>\n",
       "      <th>Score</th>\n",
       "    </tr>\n",
       "  </thead>\n",
       "  <tbody>\n",
       "    <tr>\n",
       "      <th>0</th>\n",
       "      <td>Alice</td>\n",
       "      <td>25</td>\n",
       "      <td>85</td>\n",
       "    </tr>\n",
       "    <tr>\n",
       "      <th>1</th>\n",
       "      <td>Bob</td>\n",
       "      <td>30</td>\n",
       "      <td>90</td>\n",
       "    </tr>\n",
       "    <tr>\n",
       "      <th>2</th>\n",
       "      <td>Charlie</td>\n",
       "      <td>35</td>\n",
       "      <td>95</td>\n",
       "    </tr>\n",
       "  </tbody>\n",
       "</table>\n",
       "</div>"
      ],
      "text/plain": [
       "       Nom  Age  Score\n",
       "0    Alice   25     85\n",
       "1      Bob   30     90\n",
       "2  Charlie   35     95"
      ]
     },
     "execution_count": 7,
     "metadata": {},
     "output_type": "execute_result"
    }
   ],
   "source": [
    "df"
   ]
  },
  {
   "cell_type": "code",
   "execution_count": 8,
   "id": "0ff58792-20d3-409f-a57e-affb0fe9eb52",
   "metadata": {},
   "outputs": [],
   "source": [
    "df_students = pd.read_csv(\"students.csv\")"
   ]
  },
  {
   "cell_type": "code",
   "execution_count": 12,
   "id": "df254ac7-b9e0-480f-be33-46d6ac282b61",
   "metadata": {},
   "outputs": [
    {
     "data": {
      "text/html": [
       "<div>\n",
       "<style scoped>\n",
       "    .dataframe tbody tr th:only-of-type {\n",
       "        vertical-align: middle;\n",
       "    }\n",
       "\n",
       "    .dataframe tbody tr th {\n",
       "        vertical-align: top;\n",
       "    }\n",
       "\n",
       "    .dataframe thead th {\n",
       "        text-align: right;\n",
       "    }\n",
       "</style>\n",
       "<table border=\"1\" class=\"dataframe\">\n",
       "  <thead>\n",
       "    <tr style=\"text-align: right;\">\n",
       "      <th></th>\n",
       "      <th>id</th>\n",
       "      <th>prenom</th>\n",
       "      <th>nom</th>\n",
       "      <th>email</th>\n",
       "      <th>age</th>\n",
       "      <th>groupe</th>\n",
       "      <th>note</th>\n",
       "    </tr>\n",
       "  </thead>\n",
       "  <tbody>\n",
       "    <tr>\n",
       "      <th>0</th>\n",
       "      <td>1</td>\n",
       "      <td>Lucie</td>\n",
       "      <td>Marie</td>\n",
       "      <td>lucie.marie@exemple.com</td>\n",
       "      <td>19</td>\n",
       "      <td>A</td>\n",
       "      <td>16.90</td>\n",
       "    </tr>\n",
       "    <tr>\n",
       "      <th>1</th>\n",
       "      <td>2</td>\n",
       "      <td>André</td>\n",
       "      <td>Traore</td>\n",
       "      <td>andré.traore@exemple.com</td>\n",
       "      <td>21</td>\n",
       "      <td>A</td>\n",
       "      <td>9.67</td>\n",
       "    </tr>\n",
       "    <tr>\n",
       "      <th>2</th>\n",
       "      <td>3</td>\n",
       "      <td>Robert</td>\n",
       "      <td>Moulin</td>\n",
       "      <td>robert.moulin@exemple.com</td>\n",
       "      <td>19</td>\n",
       "      <td>C</td>\n",
       "      <td>16.89</td>\n",
       "    </tr>\n",
       "    <tr>\n",
       "      <th>3</th>\n",
       "      <td>4</td>\n",
       "      <td>Maurice</td>\n",
       "      <td>Joly</td>\n",
       "      <td>maurice.joly@exemple.com</td>\n",
       "      <td>19</td>\n",
       "      <td>C</td>\n",
       "      <td>13.06</td>\n",
       "    </tr>\n",
       "    <tr>\n",
       "      <th>4</th>\n",
       "      <td>5</td>\n",
       "      <td>Nathalie</td>\n",
       "      <td>Henry</td>\n",
       "      <td>nathalie.henry@exemple.com</td>\n",
       "      <td>18</td>\n",
       "      <td>A</td>\n",
       "      <td>10.62</td>\n",
       "    </tr>\n",
       "  </tbody>\n",
       "</table>\n",
       "</div>"
      ],
      "text/plain": [
       "   id    prenom     nom                       email  age groupe   note\n",
       "0   1     Lucie   Marie     lucie.marie@exemple.com   19      A  16.90\n",
       "1   2     André  Traore    andré.traore@exemple.com   21      A   9.67\n",
       "2   3    Robert  Moulin   robert.moulin@exemple.com   19      C  16.89\n",
       "3   4   Maurice    Joly    maurice.joly@exemple.com   19      C  13.06\n",
       "4   5  Nathalie   Henry  nathalie.henry@exemple.com   18      A  10.62"
      ]
     },
     "execution_count": 12,
     "metadata": {},
     "output_type": "execute_result"
    }
   ],
   "source": [
    "df_students.head() # pour les 5 dernières valeurs tail()"
   ]
  },
  {
   "cell_type": "code",
   "execution_count": 14,
   "id": "e221e699-4b1c-4e54-b565-3fa154dc09d6",
   "metadata": {},
   "outputs": [],
   "source": [
    "# df_students[\"nom\"] "
   ]
  },
  {
   "cell_type": "code",
   "execution_count": 15,
   "id": "40047cb2-350e-491a-9793-c70412b3738c",
   "metadata": {},
   "outputs": [],
   "source": [
    "# affichez la deuxième ligne du DataFrame "
   ]
  },
  {
   "cell_type": "code",
   "execution_count": null,
   "id": "4e06d1ce-49fd-4f28-a4c1-f340f11987ba",
   "metadata": {},
   "outputs": [],
   "source": []
  }
 ],
 "metadata": {
  "kernelspec": {
   "display_name": "Python 3 (ipykernel)",
   "language": "python",
   "name": "python3"
  },
  "language_info": {
   "codemirror_mode": {
    "name": "ipython",
    "version": 3
   },
   "file_extension": ".py",
   "mimetype": "text/x-python",
   "name": "python",
   "nbconvert_exporter": "python",
   "pygments_lexer": "ipython3",
   "version": "3.13.5"
  }
 },
 "nbformat": 4,
 "nbformat_minor": 5
}
