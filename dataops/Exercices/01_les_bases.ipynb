{
 "cells": [
  {
   "cell_type": "code",
   "execution_count": 1,
   "id": "6b45c206-a134-4237-b1df-11eb70c4f62e",
   "metadata": {},
   "outputs": [],
   "source": [
    "x = 10  # Global\n",
    "\n",
    "def outer():\n",
    "    y = 5  # Local\n",
    "    print(x) # Global\n",
    "    def inner():\n",
    "        print(y) # Enclosing pour inner\n",
    "        z = 3      # Local\n",
    "        print(\"inner:\", x, y, z) # Enclosing Global\n",
    "    print(y)    \n",
    "    inner()\n",
    "    # print(z) # pas accessible\n",
    "    print(\"outer:\", x, y) # Global Enclosing"
   ]
  },
  {
   "cell_type": "code",
   "execution_count": 3,
   "id": "29874766-565a-4550-b477-daa0afddcfd0",
   "metadata": {},
   "outputs": [],
   "source": [
    "# Liste \n",
    "\n",
    "l = [ 1, 2, 3, 9]"
   ]
  },
  {
   "cell_type": "code",
   "execution_count": 8,
   "id": "d495ac87-1a18-42a3-9141-38359ebbee75",
   "metadata": {},
   "outputs": [],
   "source": [
    "fruits = [\"pomme\", \"banane\", \"cerise\", \"kiwi\", \"mangue\"]"
   ]
  },
  {
   "cell_type": "code",
   "execution_count": 10,
   "id": "77ba461a-b02d-420c-b9b9-204bdadca61f",
   "metadata": {},
   "outputs": [
    {
     "data": {
      "text/plain": [
       "['banane', 'cerise', 'kiwi']"
      ]
     },
     "execution_count": 10,
     "metadata": {},
     "output_type": "execute_result"
    }
   ],
   "source": [
    "# [\"start:end:step]\n",
    "# banane cerise kiwi\n",
    "fruits[1:4]"
   ]
  },
  {
   "cell_type": "code",
   "execution_count": 13,
   "id": "27ce774b-7a48-48f3-ac2d-0b5ea53b7eb2",
   "metadata": {},
   "outputs": [
    {
     "name": "stdout",
     "output_type": "stream",
     "text": [
      "['pomme', 'banane', 'cerise']\n",
      "['pomme', 'banane', 'cerise']\n"
     ]
    }
   ],
   "source": [
    "# pomme banane cerise\n",
    "print( fruits[0:3])\n",
    "print( fruits[:3] )"
   ]
  },
  {
   "cell_type": "code",
   "execution_count": 14,
   "id": "0e3fb115-db54-4363-bc08-97c95cd54cef",
   "metadata": {},
   "outputs": [
    {
     "data": {
      "text/plain": [
       "['mangue', 'kiwi', 'cerise', 'banane', 'pomme']"
      ]
     },
     "execution_count": 14,
     "metadata": {},
     "output_type": "execute_result"
    }
   ],
   "source": [
    "# inverser la liste \n",
    "fruits[::-1]"
   ]
  },
  {
   "cell_type": "code",
   "execution_count": 16,
   "id": "eb2a6670-e76f-4929-915f-30cce1952904",
   "metadata": {},
   "outputs": [
    {
     "name": "stdout",
     "output_type": "stream",
     "text": [
      "['pomme', 'cerise', 'mangue']\n",
      "['pomme', 'cerise', 'mangue']\n"
     ]
    }
   ],
   "source": [
    "# pomme cerise mangue\n",
    "print(fruits[0:5:2])\n",
    "print(fruits[::2])"
   ]
  },
  {
   "cell_type": "code",
   "execution_count": 17,
   "id": "9f4bc959-14a3-48aa-aa02-a0dc26cb45e6",
   "metadata": {},
   "outputs": [
    {
     "data": {
      "text/plain": [
       "'nothyP'"
      ]
     },
     "execution_count": 17,
     "metadata": {},
     "output_type": "execute_result"
    }
   ],
   "source": [
    "texte = \"Pyhton\"\n",
    "texte[::-1]"
   ]
  },
  {
   "cell_type": "code",
   "execution_count": 19,
   "id": "7860461d-bacf-475d-ba04-9ebc30f6187c",
   "metadata": {},
   "outputs": [
    {
     "name": "stdout",
     "output_type": "stream",
     "text": [
      "Python"
     ]
    }
   ],
   "source": [
    "for ch in \"Python\": print(ch, end=\"\")"
   ]
  },
  {
   "cell_type": "code",
   "execution_count": 23,
   "id": "e0a2d8f2-d499-45f9-9552-d22d980cb6f1",
   "metadata": {},
   "outputs": [
    {
     "data": {
      "text/plain": [
       "['cerise', 'kiwi', 'mangue']"
      ]
     },
     "execution_count": 23,
     "metadata": {},
     "output_type": "execute_result"
    }
   ],
   "source": [
    "fruits[-3:]"
   ]
  },
  {
   "cell_type": "code",
   "execution_count": 24,
   "id": "7aaac4f4-0f1e-4d10-aef2-1c51c94a1364",
   "metadata": {},
   "outputs": [],
   "source": [
    "fruits[0]= \"voiture\""
   ]
  },
  {
   "cell_type": "code",
   "execution_count": 25,
   "id": "0b756e17-6d6e-47ce-a494-3e9345d7ed67",
   "metadata": {},
   "outputs": [
    {
     "data": {
      "text/plain": [
       "['voiture', 'banane', 'cerise', 'kiwi', 'mangue']"
      ]
     },
     "execution_count": 25,
     "metadata": {},
     "output_type": "execute_result"
    }
   ],
   "source": [
    "fruits"
   ]
  },
  {
   "cell_type": "code",
   "execution_count": 26,
   "id": "2a4efd65-8bf2-42d9-a34f-872afd1013d6",
   "metadata": {},
   "outputs": [],
   "source": [
    "t = (1, 2, 3)"
   ]
  },
  {
   "cell_type": "code",
   "execution_count": 28,
   "id": "bb3c63f7-5d7a-4daf-99e6-2fa34f1e8eb2",
   "metadata": {},
   "outputs": [
    {
     "data": {
      "text/plain": [
       "(3, 2, 1)"
      ]
     },
     "execution_count": 28,
     "metadata": {},
     "output_type": "execute_result"
    }
   ],
   "source": [
    "t[::-1]"
   ]
  },
  {
   "cell_type": "code",
   "execution_count": 29,
   "id": "adc2cea7-685a-4a7e-a15d-6f83d33a1902",
   "metadata": {},
   "outputs": [
    {
     "name": "stdout",
     "output_type": "stream",
     "text": [
      "2\n"
     ]
    }
   ],
   "source": [
    "d = {\"a\": 1, \"b\": 2}\n",
    "d[\"c\"] = 3\n",
    "print(d.get(\"b\"))  # 2"
   ]
  },
  {
   "cell_type": "code",
   "execution_count": 30,
   "id": "17cb6e98-d82a-4dfe-96d6-0ca2d55f0974",
   "metadata": {},
   "outputs": [
    {
     "data": {
      "text/plain": [
       "3"
      ]
     },
     "execution_count": 30,
     "metadata": {},
     "output_type": "execute_result"
    }
   ],
   "source": [
    "d[\"c\"]"
   ]
  },
  {
   "cell_type": "code",
   "execution_count": 31,
   "id": "d7082730-851a-4f9c-ab91-37cb99a382d9",
   "metadata": {},
   "outputs": [],
   "source": [
    "d[\"e\"] = (1,2) "
   ]
  },
  {
   "cell_type": "code",
   "execution_count": 32,
   "id": "a097c5db-b852-4168-b905-01384e6ae03c",
   "metadata": {},
   "outputs": [
    {
     "data": {
      "text/plain": [
       "{'a': 1, 'b': 2, 'c': 3, 'e': (1, 2)}"
      ]
     },
     "execution_count": 32,
     "metadata": {},
     "output_type": "execute_result"
    }
   ],
   "source": [
    "d"
   ]
  },
  {
   "cell_type": "code",
   "execution_count": 33,
   "id": "a48ffbc5-f808-44fc-8f39-569c5fc45f29",
   "metadata": {},
   "outputs": [],
   "source": [
    "d[\"e\"] = 100"
   ]
  },
  {
   "cell_type": "code",
   "execution_count": 34,
   "id": "72be8e1f-de0c-47cb-9e5d-0b7e6e086450",
   "metadata": {},
   "outputs": [
    {
     "data": {
      "text/plain": [
       "{'a': 1, 'b': 2, 'c': 3, 'e': 100}"
      ]
     },
     "execution_count": 34,
     "metadata": {},
     "output_type": "execute_result"
    }
   ],
   "source": [
    "d"
   ]
  },
  {
   "cell_type": "code",
   "execution_count": 35,
   "id": "6c85e488-e5bf-4f04-a285-0b2fe2ada2fa",
   "metadata": {},
   "outputs": [
    {
     "data": {
      "text/plain": [
       "['pomme', 'banane', 'cerise', 'kiwi', 'mangue', 'mangue']"
      ]
     },
     "execution_count": 35,
     "metadata": {},
     "output_type": "execute_result"
    }
   ],
   "source": [
    "fruits = [\"pomme\", \"banane\", \"cerise\", \"kiwi\", \"mangue\", \"mangue\"]\n",
    "\n",
    "\n",
    "fruits"
   ]
  },
  {
   "cell_type": "code",
   "execution_count": 36,
   "id": "62e9fa44-0e0a-430a-bab4-bcf46dc33d3f",
   "metadata": {},
   "outputs": [],
   "source": [
    "# les sets\n",
    "s = {1, 2, 3}"
   ]
  },
  {
   "cell_type": "code",
   "execution_count": 38,
   "id": "631727cb-04bc-4f72-a031-ff281f87fae0",
   "metadata": {},
   "outputs": [
    {
     "name": "stdout",
     "output_type": "stream",
     "text": [
      "{1, 2, 3}\n",
      "{1, 2, 3, 6}\n"
     ]
    }
   ],
   "source": [
    "print(s)\n",
    "s.add(1)\n",
    "s.add(2)\n",
    "s.add(3)\n",
    "s.add(6)\n",
    "print(s)"
   ]
  },
  {
   "cell_type": "code",
   "execution_count": 39,
   "id": "6f359d76-53b6-4026-9d1a-11bbccdbf433",
   "metadata": {},
   "outputs": [
    {
     "data": {
      "text/plain": [
       "{1, 2, 3, 6, 7}"
      ]
     },
     "execution_count": 39,
     "metadata": {},
     "output_type": "execute_result"
    }
   ],
   "source": [
    "p = {1, 2, 7 }\n",
    "\n",
    "s | p"
   ]
  },
  {
   "cell_type": "code",
   "execution_count": 40,
   "id": "588fc4c3-9d79-4fa4-bfb8-8ab9f1a99635",
   "metadata": {},
   "outputs": [
    {
     "data": {
      "text/plain": [
       "{1, 2}"
      ]
     },
     "execution_count": 40,
     "metadata": {},
     "output_type": "execute_result"
    }
   ],
   "source": [
    "p & s "
   ]
  },
  {
   "cell_type": "code",
   "execution_count": 42,
   "id": "fd450969-709a-4900-8fe4-20afbd7fdf08",
   "metadata": {},
   "outputs": [
    {
     "data": {
      "text/plain": [
       "{'i', 'm', 'p', 's'}"
      ]
     },
     "execution_count": 42,
     "metadata": {},
     "output_type": "execute_result"
    }
   ],
   "source": [
    "message = \"mississippi\"\n",
    "set(message)"
   ]
  },
  {
   "cell_type": "code",
   "execution_count": 43,
   "id": "907a419c-6e70-4875-b083-a8644d550874",
   "metadata": {},
   "outputs": [
    {
     "name": "stdout",
     "output_type": "stream",
     "text": [
      "123"
     ]
    }
   ],
   "source": [
    "# Exercice compter le nombre de chaque caractère de mot dans message \n",
    "\n",
    "for ch in [1, 2, 3]:\n",
    "    print(ch, end = \"\")"
   ]
  },
  {
   "cell_type": "code",
   "execution_count": 48,
   "id": "e5f86639-f3b0-4c04-8a50-bfe70dea0a39",
   "metadata": {},
   "outputs": [],
   "source": [
    "count_char = {} # initialiser un dictionnaire vide\n",
    "\n",
    "d = {\"a\" : 1, \"b\" : 2 }\n",
    "\n",
    "\"a\" in d # vérifie si la clé existe\n",
    "\n",
    "for ch in message:\n",
    "    if ch in count_char: # vérifie que la clé ch existe dans le dictionnaire count_char\n",
    "        count_char[ch] += 1 # ch clé unique \n",
    "    else:\n",
    "        count_char[ch] = 1"
   ]
  },
  {
   "cell_type": "code",
   "execution_count": 49,
   "id": "d2c4ff2a-ee23-486e-85f5-03d500a91b5d",
   "metadata": {},
   "outputs": [
    {
     "name": "stdout",
     "output_type": "stream",
     "text": [
      "{'m': 1, 'i': 4, 's': 4, 'p': 2}\n"
     ]
    }
   ],
   "source": [
    "print(count_char)"
   ]
  },
  {
   "cell_type": "code",
   "execution_count": 50,
   "id": "f1917f1c-2a76-4df8-b03f-fc9f553d8d9f",
   "metadata": {},
   "outputs": [
    {
     "data": {
      "text/plain": [
       "4"
      ]
     },
     "execution_count": 50,
     "metadata": {},
     "output_type": "execute_result"
    }
   ],
   "source": [
    "message.count('i')"
   ]
  },
  {
   "cell_type": "code",
   "execution_count": 52,
   "id": "54eb113f-903e-47fc-94bb-5fd5b573e207",
   "metadata": {},
   "outputs": [],
   "source": [
    "# Les carrés \n",
    "\n",
    "mbSquare = []\n",
    "\n",
    "for i in range(1, 11):\n",
    "    # print(i)\n",
    "    mbSquare.append(i**2)"
   ]
  },
  {
   "cell_type": "code",
   "execution_count": 53,
   "id": "e29d78d5-94dd-4c24-a77f-93b6c5193f25",
   "metadata": {},
   "outputs": [
    {
     "data": {
      "text/plain": [
       "[1, 4, 9, 16, 25, 36, 49, 64, 81, 100]"
      ]
     },
     "execution_count": 53,
     "metadata": {},
     "output_type": "execute_result"
    }
   ],
   "source": [
    "mbSquare"
   ]
  },
  {
   "cell_type": "code",
   "execution_count": 54,
   "id": "a9c020a5-9890-4146-ab96-8ef1cd164f6d",
   "metadata": {},
   "outputs": [
    {
     "name": "stdout",
     "output_type": "stream",
     "text": [
      "[1, 4, 9, 16, 25, 36, 49, 64, 81, 100]\n"
     ]
    }
   ],
   "source": [
    "mbSquare = [ nb**2 for nb in range(1,11) ]\n",
    "print(mbSquare)"
   ]
  },
  {
   "cell_type": "code",
   "execution_count": 55,
   "id": "723fffe7-da4b-4f59-a0c3-b5ed00ff3700",
   "metadata": {},
   "outputs": [
    {
     "data": {
      "text/plain": [
       "{'m': 1, 'i': 4, 's': 4, 'p': 2}"
      ]
     },
     "execution_count": 55,
     "metadata": {},
     "output_type": "execute_result"
    }
   ],
   "source": [
    "{ ch : message.count(ch) for ch in message } # le ch est les lettres que l'on parcours dans la boucle"
   ]
  },
  {
   "cell_type": "code",
   "execution_count": 59,
   "id": "1536ce65-1511-4bbd-99ba-a69d0b565eda",
   "metadata": {},
   "outputs": [
    {
     "data": {
      "text/plain": [
       "30"
      ]
     },
     "execution_count": 59,
     "metadata": {},
     "output_type": "execute_result"
    }
   ],
   "source": [
    "sum( nb for nb in range(1, 11) if nb % 2 == 0 ) # la somme de 2, 4, 6, 8, 10"
   ]
  },
  {
   "cell_type": "code",
   "execution_count": 74,
   "id": "b0f6cb95-4db0-4a17-be7f-92e8d7614834",
   "metadata": {},
   "outputs": [
    {
     "name": "stdout",
     "output_type": "stream",
     "text": [
      "-1\n",
      "-3256\n"
     ]
    }
   ],
   "source": [
    "number = -6523\n",
    "sig = 1 if number > 0 else -1 # manière très condensé de faire un if else en une ligne en Python\n",
    "print(sig)\n",
    "print( sig * int( str( abs(number) )[::-1] ) ) # transforme ma variable en entier positif puis je transforme en str et j'inverse"
   ]
  },
  {
   "cell_type": "code",
   "execution_count": 76,
   "id": "67cef79d-3e97-4203-803d-34b553ae3f3c",
   "metadata": {},
   "outputs": [
    {
     "name": "stdout",
     "output_type": "stream",
     "text": [
      "-3256\n"
     ]
    }
   ],
   "source": [
    "number = -6523\n",
    "sig = 1\n",
    "if number < 0: \n",
    "    sig = -1\n",
    "\n",
    "number = abs(number)\n",
    "number = str(number)[::-1]\n",
    "number = sig * int(number)\n",
    "print(number)"
   ]
  },
  {
   "cell_type": "code",
   "execution_count": 96,
   "id": "c5514769-ba34-4057-9d56-07323651ca30",
   "metadata": {},
   "outputs": [
    {
     "name": "stdout",
     "output_type": "stream",
     "text": [
      "1 1 1\n",
      "10 10 10\n"
     ]
    }
   ],
   "source": [
    "class Person:\n",
    "    step = 1\n",
    "    def __init__(self, name, age):\n",
    "        self.name = name\n",
    "        self.age = age \n",
    "\n",
    "    def str_len(self):\n",
    "        return len(self.name)\n",
    "\n",
    "Alan = Person(\"Alan\", 10)\n",
    "Bob = Person(\"Bob\", 19)\n",
    "print(Bob.step, Alan.step, Person.step) # valeur partagée\n",
    "\n",
    "# si on change step ça change pour tout le monde \n",
    "Person.step = 10\n",
    "print(Bob.step, Alan.step, Person.step) # valeur partagée"
   ]
  },
  {
   "cell_type": "code",
   "execution_count": 97,
   "id": "65839d6b-2337-490f-aa53-587f5f07f3d7",
   "metadata": {},
   "outputs": [],
   "source": [
    "class Person:\n",
    "    step = 1\n",
    "    def __init__(self, name, age):\n",
    "        self.name = name\n",
    "        self.age = age \n",
    "\n",
    "    def str_len(self):\n",
    "        return len(self.name)"
   ]
  },
  {
   "cell_type": "code",
   "execution_count": 98,
   "id": "bb72ab91-d387-476c-b787-1078d8eea8e3",
   "metadata": {},
   "outputs": [],
   "source": [
    "Alan = Person(\"Alan\", 10)"
   ]
  },
  {
   "cell_type": "code",
   "execution_count": 101,
   "id": "e82243b9-ecaf-4b50-b79c-dd25936838c9",
   "metadata": {},
   "outputs": [],
   "source": [
    "form datetime import datetime \n",
    "\n",
    "cleaned_data = [\n",
    "  {\"order_id\": 1001, \"customer\": \"Alice\", \"amount\": 89.90, \"date\": \"2024-04-05\"},\n",
    "  {\"order_id\": 1002, \"customer\": \"Bob\", \"amount\": 45.00, \"date\": \"2024-04-07\"},\n",
    "]\n",
    "\n",
    "class Order:\n",
    "    def __init__(self, order_id, customer, amount, date):\n",
    "        self.order_id = order_id\n",
    "        self.customer = customer\n",
    "        self.amount = amount\n",
    "        self.date = datetime.strptime(date, \"%Y-%m-%d\")"
   ]
  },
  {
   "cell_type": "code",
   "execution_count": 106,
   "id": "c9bf2391-3b95-490f-ad74-13ac52c9b5b2",
   "metadata": {},
   "outputs": [],
   "source": [
    "# hydratation \n",
    "orders = [ \n",
    "    Order(\n",
    "        order_id=o['order_id'],\n",
    "        customer=o['customer'],\n",
    "        amount=o['amount'],\n",
    "        date=o['date']\n",
    "    )\n",
    "    for o in cleaned_data ]"
   ]
  },
  {
   "cell_type": "code",
   "execution_count": 111,
   "id": "ecaf2dc9-9ffd-45cf-8655-1153bd11f75f",
   "metadata": {},
   "outputs": [
    {
     "data": {
      "text/plain": [
       "<__main__.Order at 0x1154b9130>"
      ]
     },
     "execution_count": 111,
     "metadata": {},
     "output_type": "execute_result"
    }
   ],
   "source": [
    "Order( **cleaned_data[0] ) # ** => déballer les valeurs order_id = 1001, customer = 'Alice', amount=  89.90, date = \"2024-04-05\""
   ]
  },
  {
   "cell_type": "code",
   "execution_count": 112,
   "id": "8c3ef7d3-6f06-445e-931a-1278e6f6a817",
   "metadata": {},
   "outputs": [],
   "source": [
    "a = 1\n",
    "b = 2\n",
    "a, b = b, a # assignation par unpacking"
   ]
  },
  {
   "cell_type": "code",
   "execution_count": 116,
   "id": "b3621a96-50c7-4e9a-857e-e2f62c26848e",
   "metadata": {},
   "outputs": [],
   "source": [
    "# hydratation \n",
    "orders = [ Order(**o) for o in cleaned_data ]"
   ]
  },
  {
   "cell_type": "code",
   "execution_count": 124,
   "id": "aafd0cd1-c85f-4e8a-b47b-7b8de8d658b0",
   "metadata": {},
   "outputs": [
    {
     "data": {
      "text/plain": [
       "True"
      ]
     },
     "execution_count": 124,
     "metadata": {},
     "output_type": "execute_result"
    }
   ],
   "source": [
    "type(orders[0]) == Order"
   ]
  },
  {
   "cell_type": "code",
   "execution_count": 130,
   "id": "0ff66e52-e380-4a93-864b-557510433e2a",
   "metadata": {},
   "outputs": [
    {
     "data": {
      "text/plain": [
       "(89.9, 1001, 'Alice')"
      ]
     },
     "execution_count": 130,
     "metadata": {},
     "output_type": "execute_result"
    }
   ],
   "source": [
    "def total_sales(orders):\n",
    "    return sum(order.amount for order in orders)\n",
    "\n",
    "def best_order(orders):\n",
    "    best_order = 0\n",
    "    o = None \n",
    "    for order in orders :\n",
    "        if best_order < order.amount:\n",
    "            best_order = order.amount\n",
    "            o = order\n",
    "\n",
    "    return o\n",
    "\n",
    "bestOrder = best_order(orders)\n",
    "bestOrder.amount, bestOrder.order_id, bestOrder.customer"
   ]
  },
  {
   "cell_type": "code",
   "execution_count": 126,
   "id": "b082a4ce-8594-434c-bd84-c8fa72425451",
   "metadata": {},
   "outputs": [
    {
     "data": {
      "text/plain": [
       "134.9"
      ]
     },
     "execution_count": 126,
     "metadata": {},
     "output_type": "execute_result"
    }
   ],
   "source": [
    "total_sales(orders)"
   ]
  },
  {
   "cell_type": "code",
   "execution_count": 127,
   "id": "30483069-f093-46c3-9013-a1bb25001afb",
   "metadata": {},
   "outputs": [
    {
     "data": {
      "text/plain": [
       "<__main__.Order at 0x1135dd9d0>"
      ]
     },
     "execution_count": 127,
     "metadata": {},
     "output_type": "execute_result"
    }
   ],
   "source": [
    "best_order(orders)"
   ]
  },
  {
   "cell_type": "code",
   "execution_count": null,
   "id": "976dbbdf-700b-490a-a91b-b20a4617bf10",
   "metadata": {},
   "outputs": [],
   "source": []
  }
 ],
 "metadata": {
  "kernelspec": {
   "display_name": "Python 3 (ipykernel)",
   "language": "python",
   "name": "python3"
  },
  "language_info": {
   "codemirror_mode": {
    "name": "ipython",
    "version": 3
   },
   "file_extension": ".py",
   "mimetype": "text/x-python",
   "name": "python",
   "nbconvert_exporter": "python",
   "pygments_lexer": "ipython3",
   "version": "3.13.5"
  }
 },
 "nbformat": 4,
 "nbformat_minor": 5
}
