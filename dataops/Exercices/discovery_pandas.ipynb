{
 "cells": [
  {
   "cell_type": "code",
   "execution_count": 2,
   "id": "a44b5d68-4f61-4fa0-a160-80f72c3be43e",
   "metadata": {},
   "outputs": [],
   "source": [
    "import pandas as pd"
   ]
  },
  {
   "cell_type": "code",
   "execution_count": 4,
   "id": "11e6ee70-0002-48eb-8dad-ce3ac7efed12",
   "metadata": {},
   "outputs": [
    {
     "name": "stdout",
     "output_type": "stream",
     "text": [
      "0    10\n",
      "1    20\n",
      "2    30\n",
      "3    40\n",
      "dtype: int64\n"
     ]
    }
   ],
   "source": [
    "s = pd.Series([10, 20, 30, 40])\n",
    "print(s)"
   ]
  },
  {
   "cell_type": "code",
   "execution_count": 5,
   "id": "25f54197-c410-4e50-913f-95603f1b9396",
   "metadata": {},
   "outputs": [],
   "source": [
    "data = {\n",
    "    \"Nom\": [\"Alice\", \"Bob\", \"Charlie\"],\n",
    "    \"Age\": [25, 30, 35],\n",
    "    \"Score\": [85, 90, 95]\n",
    "}"
   ]
  },
  {
   "cell_type": "code",
   "execution_count": 6,
   "id": "3528305c-0f19-4d04-abdb-1e0c4b6f7ccd",
   "metadata": {},
   "outputs": [],
   "source": [
    "df = pd.DataFrame(data)"
   ]
  },
  {
   "cell_type": "code",
   "execution_count": 7,
   "id": "ac2dffd7-2016-45d9-a637-d8a29f4e14b2",
   "metadata": {},
   "outputs": [
    {
     "data": {
      "text/html": [
       "<div>\n",
       "<style scoped>\n",
       "    .dataframe tbody tr th:only-of-type {\n",
       "        vertical-align: middle;\n",
       "    }\n",
       "\n",
       "    .dataframe tbody tr th {\n",
       "        vertical-align: top;\n",
       "    }\n",
       "\n",
       "    .dataframe thead th {\n",
       "        text-align: right;\n",
       "    }\n",
       "</style>\n",
       "<table border=\"1\" class=\"dataframe\">\n",
       "  <thead>\n",
       "    <tr style=\"text-align: right;\">\n",
       "      <th></th>\n",
       "      <th>Nom</th>\n",
       "      <th>Age</th>\n",
       "      <th>Score</th>\n",
       "    </tr>\n",
       "  </thead>\n",
       "  <tbody>\n",
       "    <tr>\n",
       "      <th>0</th>\n",
       "      <td>Alice</td>\n",
       "      <td>25</td>\n",
       "      <td>85</td>\n",
       "    </tr>\n",
       "    <tr>\n",
       "      <th>1</th>\n",
       "      <td>Bob</td>\n",
       "      <td>30</td>\n",
       "      <td>90</td>\n",
       "    </tr>\n",
       "    <tr>\n",
       "      <th>2</th>\n",
       "      <td>Charlie</td>\n",
       "      <td>35</td>\n",
       "      <td>95</td>\n",
       "    </tr>\n",
       "  </tbody>\n",
       "</table>\n",
       "</div>"
      ],
      "text/plain": [
       "       Nom  Age  Score\n",
       "0    Alice   25     85\n",
       "1      Bob   30     90\n",
       "2  Charlie   35     95"
      ]
     },
     "execution_count": 7,
     "metadata": {},
     "output_type": "execute_result"
    }
   ],
   "source": [
    "df"
   ]
  },
  {
   "cell_type": "code",
   "execution_count": 8,
   "id": "0ff58792-20d3-409f-a57e-affb0fe9eb52",
   "metadata": {},
   "outputs": [],
   "source": [
    "df_students = pd.read_csv(\"students.csv\")"
   ]
  },
  {
   "cell_type": "code",
   "execution_count": 12,
   "id": "df254ac7-b9e0-480f-be33-46d6ac282b61",
   "metadata": {},
   "outputs": [
    {
     "data": {
      "text/html": [
       "<div>\n",
       "<style scoped>\n",
       "    .dataframe tbody tr th:only-of-type {\n",
       "        vertical-align: middle;\n",
       "    }\n",
       "\n",
       "    .dataframe tbody tr th {\n",
       "        vertical-align: top;\n",
       "    }\n",
       "\n",
       "    .dataframe thead th {\n",
       "        text-align: right;\n",
       "    }\n",
       "</style>\n",
       "<table border=\"1\" class=\"dataframe\">\n",
       "  <thead>\n",
       "    <tr style=\"text-align: right;\">\n",
       "      <th></th>\n",
       "      <th>id</th>\n",
       "      <th>prenom</th>\n",
       "      <th>nom</th>\n",
       "      <th>email</th>\n",
       "      <th>age</th>\n",
       "      <th>groupe</th>\n",
       "      <th>note</th>\n",
       "    </tr>\n",
       "  </thead>\n",
       "  <tbody>\n",
       "    <tr>\n",
       "      <th>0</th>\n",
       "      <td>1</td>\n",
       "      <td>Lucie</td>\n",
       "      <td>Marie</td>\n",
       "      <td>lucie.marie@exemple.com</td>\n",
       "      <td>19</td>\n",
       "      <td>A</td>\n",
       "      <td>16.90</td>\n",
       "    </tr>\n",
       "    <tr>\n",
       "      <th>1</th>\n",
       "      <td>2</td>\n",
       "      <td>André</td>\n",
       "      <td>Traore</td>\n",
       "      <td>andré.traore@exemple.com</td>\n",
       "      <td>21</td>\n",
       "      <td>A</td>\n",
       "      <td>9.67</td>\n",
       "    </tr>\n",
       "    <tr>\n",
       "      <th>2</th>\n",
       "      <td>3</td>\n",
       "      <td>Robert</td>\n",
       "      <td>Moulin</td>\n",
       "      <td>robert.moulin@exemple.com</td>\n",
       "      <td>19</td>\n",
       "      <td>C</td>\n",
       "      <td>16.89</td>\n",
       "    </tr>\n",
       "    <tr>\n",
       "      <th>3</th>\n",
       "      <td>4</td>\n",
       "      <td>Maurice</td>\n",
       "      <td>Joly</td>\n",
       "      <td>maurice.joly@exemple.com</td>\n",
       "      <td>19</td>\n",
       "      <td>C</td>\n",
       "      <td>13.06</td>\n",
       "    </tr>\n",
       "    <tr>\n",
       "      <th>4</th>\n",
       "      <td>5</td>\n",
       "      <td>Nathalie</td>\n",
       "      <td>Henry</td>\n",
       "      <td>nathalie.henry@exemple.com</td>\n",
       "      <td>18</td>\n",
       "      <td>A</td>\n",
       "      <td>10.62</td>\n",
       "    </tr>\n",
       "  </tbody>\n",
       "</table>\n",
       "</div>"
      ],
      "text/plain": [
       "   id    prenom     nom                       email  age groupe   note\n",
       "0   1     Lucie   Marie     lucie.marie@exemple.com   19      A  16.90\n",
       "1   2     André  Traore    andré.traore@exemple.com   21      A   9.67\n",
       "2   3    Robert  Moulin   robert.moulin@exemple.com   19      C  16.89\n",
       "3   4   Maurice    Joly    maurice.joly@exemple.com   19      C  13.06\n",
       "4   5  Nathalie   Henry  nathalie.henry@exemple.com   18      A  10.62"
      ]
     },
     "execution_count": 12,
     "metadata": {},
     "output_type": "execute_result"
    }
   ],
   "source": [
    "df_students.head() # pour les 5 dernières valeurs tail()"
   ]
  },
  {
   "cell_type": "code",
   "execution_count": 14,
   "id": "e221e699-4b1c-4e54-b565-3fa154dc09d6",
   "metadata": {},
   "outputs": [],
   "source": [
    "# df_students[\"nom\"] "
   ]
  },
  {
   "cell_type": "code",
   "execution_count": 15,
   "id": "40047cb2-350e-491a-9793-c70412b3738c",
   "metadata": {},
   "outputs": [],
   "source": [
    "# affichez la deuxième ligne du DataFrame "
   ]
  },
  {
   "cell_type": "code",
   "execution_count": 18,
   "id": "4e06d1ce-49fd-4f28-a4c1-f340f11987ba",
   "metadata": {},
   "outputs": [
    {
     "data": {
      "text/plain": [
       "id                               2\n",
       "prenom                       André\n",
       "nom                         Traore\n",
       "email     andré.traore@exemple.com\n",
       "age                             21\n",
       "groupe                           A\n",
       "note                          9.67\n",
       "Name: 1, dtype: object"
      ]
     },
     "execution_count": 18,
     "metadata": {},
     "output_type": "execute_result"
    }
   ],
   "source": [
    "df_students.loc[1] # deuxième ligne l'indice c'est 1"
   ]
  },
  {
   "cell_type": "code",
   "execution_count": 28,
   "id": "1a61bfe6-219c-42a7-b844-54ac95a5c4d5",
   "metadata": {},
   "outputs": [
    {
     "name": "stdout",
     "output_type": "stream",
     "text": [
      "0    Lucie\n",
      "1    André\n",
      "Name: prenom, dtype: object\n"
     ]
    },
    {
     "data": {
      "text/plain": [
       "0    Lucie\n",
       "1    André\n",
       "Name: prenom, dtype: object"
      ]
     },
     "execution_count": 28,
     "metadata": {},
     "output_type": "execute_result"
    }
   ],
   "source": [
    "print( df_students.loc[:, \"prenom\"][:2] )\n",
    "\n",
    "# si on ne connait pas le nom de la colonne\n",
    "df_students.loc[:, df_students.columns[1]][:2]"
   ]
  },
  {
   "cell_type": "code",
   "execution_count": 29,
   "id": "b62d9596-d872-41ef-b4b0-dcf25cb08d4f",
   "metadata": {},
   "outputs": [
    {
     "data": {
      "text/plain": [
       "'prenom'"
      ]
     },
     "execution_count": 29,
     "metadata": {},
     "output_type": "execute_result"
    }
   ],
   "source": [
    "df_students.columns[1]"
   ]
  },
  {
   "cell_type": "code",
   "execution_count": 37,
   "id": "b9c2af62-d8ac-40c0-9099-63fa8bd65936",
   "metadata": {},
   "outputs": [
    {
     "data": {
      "text/plain": [
       "np.int64(24)"
      ]
     },
     "execution_count": 37,
     "metadata": {},
     "output_type": "execute_result"
    }
   ],
   "source": [
    "# Trouvez la personne la plus âgé dans le DataFrame\n",
    "df_students.loc[:, \"age\"].max()"
   ]
  },
  {
   "cell_type": "code",
   "execution_count": 45,
   "id": "804a2ed2-1c4d-4713-a8f1-111623e323a2",
   "metadata": {},
   "outputs": [
    {
     "data": {
      "text/plain": [
       "np.int64(24)"
      ]
     },
     "execution_count": 45,
     "metadata": {},
     "output_type": "execute_result"
    }
   ],
   "source": [
    "df_students[\"age\"].max() "
   ]
  },
  {
   "cell_type": "code",
   "execution_count": 48,
   "id": "f0860b94-90a6-4c4d-8ba4-4839da656df2",
   "metadata": {},
   "outputs": [
    {
     "data": {
      "text/html": [
       "<div>\n",
       "<style scoped>\n",
       "    .dataframe tbody tr th:only-of-type {\n",
       "        vertical-align: middle;\n",
       "    }\n",
       "\n",
       "    .dataframe tbody tr th {\n",
       "        vertical-align: top;\n",
       "    }\n",
       "\n",
       "    .dataframe thead th {\n",
       "        text-align: right;\n",
       "    }\n",
       "</style>\n",
       "<table border=\"1\" class=\"dataframe\">\n",
       "  <thead>\n",
       "    <tr style=\"text-align: right;\">\n",
       "      <th></th>\n",
       "      <th>id</th>\n",
       "      <th>prenom</th>\n",
       "      <th>nom</th>\n",
       "      <th>email</th>\n",
       "      <th>age</th>\n",
       "      <th>groupe</th>\n",
       "      <th>note</th>\n",
       "    </tr>\n",
       "  </thead>\n",
       "  <tbody>\n",
       "    <tr>\n",
       "      <th>6</th>\n",
       "      <td>7</td>\n",
       "      <td>Émilie</td>\n",
       "      <td>Fernandez</td>\n",
       "      <td>émilie.fernandez@exemple.com</td>\n",
       "      <td>24</td>\n",
       "      <td>A</td>\n",
       "      <td>13.39</td>\n",
       "    </tr>\n",
       "    <tr>\n",
       "      <th>29</th>\n",
       "      <td>30</td>\n",
       "      <td>Élise</td>\n",
       "      <td>Denis</td>\n",
       "      <td>élise.denis@exemple.com</td>\n",
       "      <td>24</td>\n",
       "      <td>C</td>\n",
       "      <td>13.51</td>\n",
       "    </tr>\n",
       "  </tbody>\n",
       "</table>\n",
       "</div>"
      ],
      "text/plain": [
       "    id  prenom        nom                         email  age groupe   note\n",
       "6    7  Émilie  Fernandez  émilie.fernandez@exemple.com   24      A  13.39\n",
       "29  30   Élise      Denis       élise.denis@exemple.com   24      C  13.51"
      ]
     },
     "execution_count": 48,
     "metadata": {},
     "output_type": "execute_result"
    }
   ],
   "source": [
    "mask = df_students[\"age\"].max()  == df_students[\"age\"]\n",
    "df_students[mask]"
   ]
  },
  {
   "cell_type": "code",
   "execution_count": 42,
   "id": "87fe263b-cfde-4eb9-9ef6-998daf7ed782",
   "metadata": {},
   "outputs": [
    {
     "data": {
      "text/html": [
       "<div>\n",
       "<style scoped>\n",
       "    .dataframe tbody tr th:only-of-type {\n",
       "        vertical-align: middle;\n",
       "    }\n",
       "\n",
       "    .dataframe tbody tr th {\n",
       "        vertical-align: top;\n",
       "    }\n",
       "\n",
       "    .dataframe thead th {\n",
       "        text-align: right;\n",
       "    }\n",
       "</style>\n",
       "<table border=\"1\" class=\"dataframe\">\n",
       "  <thead>\n",
       "    <tr style=\"text-align: right;\">\n",
       "      <th></th>\n",
       "      <th>id</th>\n",
       "      <th>prenom</th>\n",
       "      <th>nom</th>\n",
       "      <th>email</th>\n",
       "      <th>age</th>\n",
       "      <th>groupe</th>\n",
       "      <th>note</th>\n",
       "    </tr>\n",
       "  </thead>\n",
       "  <tbody>\n",
       "    <tr>\n",
       "      <th>6</th>\n",
       "      <td>7</td>\n",
       "      <td>Émilie</td>\n",
       "      <td>Fernandez</td>\n",
       "      <td>émilie.fernandez@exemple.com</td>\n",
       "      <td>24</td>\n",
       "      <td>A</td>\n",
       "      <td>13.39</td>\n",
       "    </tr>\n",
       "    <tr>\n",
       "      <th>29</th>\n",
       "      <td>30</td>\n",
       "      <td>Élise</td>\n",
       "      <td>Denis</td>\n",
       "      <td>élise.denis@exemple.com</td>\n",
       "      <td>24</td>\n",
       "      <td>C</td>\n",
       "      <td>13.51</td>\n",
       "    </tr>\n",
       "  </tbody>\n",
       "</table>\n",
       "</div>"
      ],
      "text/plain": [
       "    id  prenom        nom                         email  age groupe   note\n",
       "6    7  Émilie  Fernandez  émilie.fernandez@exemple.com   24      A  13.39\n",
       "29  30   Élise      Denis       élise.denis@exemple.com   24      C  13.51"
      ]
     },
     "execution_count": 42,
     "metadata": {},
     "output_type": "execute_result"
    }
   ],
   "source": [
    "df_students[df_students.loc[:, \"age\"].max() == df_students.loc[:, \"age\"] ]"
   ]
  },
  {
   "cell_type": "code",
   "execution_count": 50,
   "id": "79bc3a53-9cfe-44d2-83a2-0c5bc41d54b9",
   "metadata": {},
   "outputs": [
    {
     "data": {
      "text/html": [
       "<div>\n",
       "<style scoped>\n",
       "    .dataframe tbody tr th:only-of-type {\n",
       "        vertical-align: middle;\n",
       "    }\n",
       "\n",
       "    .dataframe tbody tr th {\n",
       "        vertical-align: top;\n",
       "    }\n",
       "\n",
       "    .dataframe thead th {\n",
       "        text-align: right;\n",
       "    }\n",
       "</style>\n",
       "<table border=\"1\" class=\"dataframe\">\n",
       "  <thead>\n",
       "    <tr style=\"text-align: right;\">\n",
       "      <th></th>\n",
       "      <th>id</th>\n",
       "      <th>prenom</th>\n",
       "      <th>nom</th>\n",
       "      <th>email</th>\n",
       "      <th>age</th>\n",
       "      <th>groupe</th>\n",
       "      <th>note</th>\n",
       "    </tr>\n",
       "  </thead>\n",
       "  <tbody>\n",
       "    <tr>\n",
       "      <th>1</th>\n",
       "      <td>2</td>\n",
       "      <td>André</td>\n",
       "      <td>Traore</td>\n",
       "      <td>andré.traore@exemple.com</td>\n",
       "      <td>21</td>\n",
       "      <td>A</td>\n",
       "      <td>9.67</td>\n",
       "    </tr>\n",
       "    <tr>\n",
       "      <th>6</th>\n",
       "      <td>7</td>\n",
       "      <td>Émilie</td>\n",
       "      <td>Fernandez</td>\n",
       "      <td>émilie.fernandez@exemple.com</td>\n",
       "      <td>24</td>\n",
       "      <td>A</td>\n",
       "      <td>13.39</td>\n",
       "    </tr>\n",
       "    <tr>\n",
       "      <th>7</th>\n",
       "      <td>8</td>\n",
       "      <td>Jeanne</td>\n",
       "      <td>Briand</td>\n",
       "      <td>jeanne.briand@exemple.com</td>\n",
       "      <td>22</td>\n",
       "      <td>A</td>\n",
       "      <td>17.11</td>\n",
       "    </tr>\n",
       "    <tr>\n",
       "      <th>9</th>\n",
       "      <td>10</td>\n",
       "      <td>Éric</td>\n",
       "      <td>Carpentier</td>\n",
       "      <td>éric.carpentier@exemple.com</td>\n",
       "      <td>22</td>\n",
       "      <td>A</td>\n",
       "      <td>10.58</td>\n",
       "    </tr>\n",
       "    <tr>\n",
       "      <th>10</th>\n",
       "      <td>11</td>\n",
       "      <td>Nicolas</td>\n",
       "      <td>Bodin</td>\n",
       "      <td>nicolas.bodin@exemple.com</td>\n",
       "      <td>23</td>\n",
       "      <td>A</td>\n",
       "      <td>9.11</td>\n",
       "    </tr>\n",
       "    <tr>\n",
       "      <th>12</th>\n",
       "      <td>13</td>\n",
       "      <td>Gabrielle</td>\n",
       "      <td>Philippe</td>\n",
       "      <td>gabrielle.philippe@exemple.com</td>\n",
       "      <td>22</td>\n",
       "      <td>A</td>\n",
       "      <td>16.76</td>\n",
       "    </tr>\n",
       "    <tr>\n",
       "      <th>14</th>\n",
       "      <td>15</td>\n",
       "      <td>Martine</td>\n",
       "      <td>Morvan</td>\n",
       "      <td>martine.morvan@exemple.com</td>\n",
       "      <td>22</td>\n",
       "      <td>C</td>\n",
       "      <td>15.42</td>\n",
       "    </tr>\n",
       "    <tr>\n",
       "      <th>15</th>\n",
       "      <td>16</td>\n",
       "      <td>Astrid</td>\n",
       "      <td>Vasseur</td>\n",
       "      <td>astrid.vasseur@exemple.com</td>\n",
       "      <td>23</td>\n",
       "      <td>C</td>\n",
       "      <td>10.31</td>\n",
       "    </tr>\n",
       "    <tr>\n",
       "      <th>17</th>\n",
       "      <td>18</td>\n",
       "      <td>Roger</td>\n",
       "      <td>Robert</td>\n",
       "      <td>roger.robert@exemple.com</td>\n",
       "      <td>22</td>\n",
       "      <td>A</td>\n",
       "      <td>18.26</td>\n",
       "    </tr>\n",
       "    <tr>\n",
       "      <th>19</th>\n",
       "      <td>20</td>\n",
       "      <td>Marthe</td>\n",
       "      <td>Briand</td>\n",
       "      <td>marthe.briand@exemple.com</td>\n",
       "      <td>23</td>\n",
       "      <td>A</td>\n",
       "      <td>12.44</td>\n",
       "    </tr>\n",
       "    <tr>\n",
       "      <th>20</th>\n",
       "      <td>21</td>\n",
       "      <td>Zacharie</td>\n",
       "      <td>Lopes</td>\n",
       "      <td>zacharie.lopes@exemple.com</td>\n",
       "      <td>21</td>\n",
       "      <td>C</td>\n",
       "      <td>11.20</td>\n",
       "    </tr>\n",
       "    <tr>\n",
       "      <th>22</th>\n",
       "      <td>23</td>\n",
       "      <td>Paulette</td>\n",
       "      <td>Marques</td>\n",
       "      <td>paulette.marques@exemple.com</td>\n",
       "      <td>21</td>\n",
       "      <td>A</td>\n",
       "      <td>13.55</td>\n",
       "    </tr>\n",
       "    <tr>\n",
       "      <th>23</th>\n",
       "      <td>24</td>\n",
       "      <td>François</td>\n",
       "      <td>Morin</td>\n",
       "      <td>françois.morin@exemple.com</td>\n",
       "      <td>22</td>\n",
       "      <td>C</td>\n",
       "      <td>16.26</td>\n",
       "    </tr>\n",
       "    <tr>\n",
       "      <th>24</th>\n",
       "      <td>25</td>\n",
       "      <td>Alex</td>\n",
       "      <td>Pereira</td>\n",
       "      <td>alex.pereira@exemple.com</td>\n",
       "      <td>21</td>\n",
       "      <td>C</td>\n",
       "      <td>11.89</td>\n",
       "    </tr>\n",
       "    <tr>\n",
       "      <th>26</th>\n",
       "      <td>27</td>\n",
       "      <td>Josette</td>\n",
       "      <td>Aubry</td>\n",
       "      <td>josette.aubry@exemple.com</td>\n",
       "      <td>23</td>\n",
       "      <td>B</td>\n",
       "      <td>11.21</td>\n",
       "    </tr>\n",
       "    <tr>\n",
       "      <th>27</th>\n",
       "      <td>28</td>\n",
       "      <td>Susan</td>\n",
       "      <td>Bertrand</td>\n",
       "      <td>susan.bertrand@exemple.com</td>\n",
       "      <td>21</td>\n",
       "      <td>C</td>\n",
       "      <td>18.52</td>\n",
       "    </tr>\n",
       "    <tr>\n",
       "      <th>28</th>\n",
       "      <td>29</td>\n",
       "      <td>Nathalie</td>\n",
       "      <td>Jacques</td>\n",
       "      <td>nathalie.jacques@exemple.com</td>\n",
       "      <td>23</td>\n",
       "      <td>A</td>\n",
       "      <td>15.87</td>\n",
       "    </tr>\n",
       "    <tr>\n",
       "      <th>29</th>\n",
       "      <td>30</td>\n",
       "      <td>Élise</td>\n",
       "      <td>Denis</td>\n",
       "      <td>élise.denis@exemple.com</td>\n",
       "      <td>24</td>\n",
       "      <td>C</td>\n",
       "      <td>13.51</td>\n",
       "    </tr>\n",
       "  </tbody>\n",
       "</table>\n",
       "</div>"
      ],
      "text/plain": [
       "    id     prenom         nom                           email  age groupe  \\\n",
       "1    2      André      Traore        andré.traore@exemple.com   21      A   \n",
       "6    7     Émilie   Fernandez    émilie.fernandez@exemple.com   24      A   \n",
       "7    8     Jeanne      Briand       jeanne.briand@exemple.com   22      A   \n",
       "9   10       Éric  Carpentier     éric.carpentier@exemple.com   22      A   \n",
       "10  11    Nicolas       Bodin       nicolas.bodin@exemple.com   23      A   \n",
       "12  13  Gabrielle    Philippe  gabrielle.philippe@exemple.com   22      A   \n",
       "14  15    Martine      Morvan      martine.morvan@exemple.com   22      C   \n",
       "15  16     Astrid     Vasseur      astrid.vasseur@exemple.com   23      C   \n",
       "17  18      Roger      Robert        roger.robert@exemple.com   22      A   \n",
       "19  20     Marthe      Briand       marthe.briand@exemple.com   23      A   \n",
       "20  21   Zacharie       Lopes      zacharie.lopes@exemple.com   21      C   \n",
       "22  23   Paulette     Marques    paulette.marques@exemple.com   21      A   \n",
       "23  24   François       Morin      françois.morin@exemple.com   22      C   \n",
       "24  25       Alex     Pereira        alex.pereira@exemple.com   21      C   \n",
       "26  27    Josette       Aubry       josette.aubry@exemple.com   23      B   \n",
       "27  28      Susan    Bertrand      susan.bertrand@exemple.com   21      C   \n",
       "28  29   Nathalie     Jacques    nathalie.jacques@exemple.com   23      A   \n",
       "29  30      Élise       Denis         élise.denis@exemple.com   24      C   \n",
       "\n",
       "     note  \n",
       "1    9.67  \n",
       "6   13.39  \n",
       "7   17.11  \n",
       "9   10.58  \n",
       "10   9.11  \n",
       "12  16.76  \n",
       "14  15.42  \n",
       "15  10.31  \n",
       "17  18.26  \n",
       "19  12.44  \n",
       "20  11.20  \n",
       "22  13.55  \n",
       "23  16.26  \n",
       "24  11.89  \n",
       "26  11.21  \n",
       "27  18.52  \n",
       "28  15.87  \n",
       "29  13.51  "
      ]
     },
     "execution_count": 50,
     "metadata": {},
     "output_type": "execute_result"
    }
   ],
   "source": [
    "df_students[ df_students[\"age\"] > 20 ]"
   ]
  },
  {
   "cell_type": "code",
   "execution_count": 51,
   "id": "dfca7088-486a-44d0-9f51-0a8203ba6818",
   "metadata": {},
   "outputs": [
    {
     "name": "stdout",
     "output_type": "stream",
     "text": [
      "<class 'pandas.core.frame.DataFrame'>\n",
      "RangeIndex: 30 entries, 0 to 29\n",
      "Data columns (total 7 columns):\n",
      " #   Column  Non-Null Count  Dtype  \n",
      "---  ------  --------------  -----  \n",
      " 0   id      30 non-null     int64  \n",
      " 1   prenom  30 non-null     object \n",
      " 2   nom     30 non-null     object \n",
      " 3   email   30 non-null     object \n",
      " 4   age     30 non-null     int64  \n",
      " 5   groupe  30 non-null     object \n",
      " 6   note    30 non-null     float64\n",
      "dtypes: float64(1), int64(2), object(4)\n",
      "memory usage: 1.8+ KB\n"
     ]
    }
   ],
   "source": [
    "df_students.info()"
   ]
  },
  {
   "cell_type": "code",
   "execution_count": 52,
   "id": "04f75080-db17-42e1-8073-294eb9f16327",
   "metadata": {},
   "outputs": [
    {
     "data": {
      "text/html": [
       "<div>\n",
       "<style scoped>\n",
       "    .dataframe tbody tr th:only-of-type {\n",
       "        vertical-align: middle;\n",
       "    }\n",
       "\n",
       "    .dataframe tbody tr th {\n",
       "        vertical-align: top;\n",
       "    }\n",
       "\n",
       "    .dataframe thead th {\n",
       "        text-align: right;\n",
       "    }\n",
       "</style>\n",
       "<table border=\"1\" class=\"dataframe\">\n",
       "  <thead>\n",
       "    <tr style=\"text-align: right;\">\n",
       "      <th></th>\n",
       "      <th>id</th>\n",
       "      <th>age</th>\n",
       "      <th>note</th>\n",
       "    </tr>\n",
       "  </thead>\n",
       "  <tbody>\n",
       "    <tr>\n",
       "      <th>count</th>\n",
       "      <td>30.000000</td>\n",
       "      <td>30.000000</td>\n",
       "      <td>30.000000</td>\n",
       "    </tr>\n",
       "    <tr>\n",
       "      <th>mean</th>\n",
       "      <td>15.500000</td>\n",
       "      <td>20.866667</td>\n",
       "      <td>13.795667</td>\n",
       "    </tr>\n",
       "    <tr>\n",
       "      <th>std</th>\n",
       "      <td>8.803408</td>\n",
       "      <td>1.888866</td>\n",
       "      <td>3.055553</td>\n",
       "    </tr>\n",
       "    <tr>\n",
       "      <th>min</th>\n",
       "      <td>1.000000</td>\n",
       "      <td>18.000000</td>\n",
       "      <td>8.950000</td>\n",
       "    </tr>\n",
       "    <tr>\n",
       "      <th>25%</th>\n",
       "      <td>8.250000</td>\n",
       "      <td>19.000000</td>\n",
       "      <td>11.202500</td>\n",
       "    </tr>\n",
       "    <tr>\n",
       "      <th>50%</th>\n",
       "      <td>15.500000</td>\n",
       "      <td>21.000000</td>\n",
       "      <td>13.450000</td>\n",
       "    </tr>\n",
       "    <tr>\n",
       "      <th>75%</th>\n",
       "      <td>22.750000</td>\n",
       "      <td>22.000000</td>\n",
       "      <td>16.635000</td>\n",
       "    </tr>\n",
       "    <tr>\n",
       "      <th>max</th>\n",
       "      <td>30.000000</td>\n",
       "      <td>24.000000</td>\n",
       "      <td>18.520000</td>\n",
       "    </tr>\n",
       "  </tbody>\n",
       "</table>\n",
       "</div>"
      ],
      "text/plain": [
       "              id        age       note\n",
       "count  30.000000  30.000000  30.000000\n",
       "mean   15.500000  20.866667  13.795667\n",
       "std     8.803408   1.888866   3.055553\n",
       "min     1.000000  18.000000   8.950000\n",
       "25%     8.250000  19.000000  11.202500\n",
       "50%    15.500000  21.000000  13.450000\n",
       "75%    22.750000  22.000000  16.635000\n",
       "max    30.000000  24.000000  18.520000"
      ]
     },
     "execution_count": 52,
     "metadata": {},
     "output_type": "execute_result"
    }
   ],
   "source": [
    "df_students.describe()"
   ]
  },
  {
   "cell_type": "code",
   "execution_count": 54,
   "id": "11601d7c-eedb-49b5-bcd3-289823fcc5aa",
   "metadata": {},
   "outputs": [
    {
     "name": "stdout",
     "output_type": "stream",
     "text": [
      "  produit  prix  quantité\n",
      "0       A    10         5\n",
      "1       B    15         3\n",
      "2       C     7        10\n",
      "3       D    20         2\n",
      "  produit  prix  quantité  total\n",
      "0       A    10         5     50\n",
      "1       B    15         3     45\n",
      "2       C     7        10     70\n",
      "3       D    20         2     40\n",
      "Somme totale des ventes : 205\n"
     ]
    }
   ],
   "source": [
    "data = {\n",
    "    \"produit\": [\"A\", \"B\", \"C\", \"D\"],\n",
    "    \"prix\": [10, 15, 7, 20],\n",
    "    \"quantité\": [5, 3, 10, 2]\n",
    "}\n",
    "df = pd.DataFrame(data)\n",
    "print(df)\n",
    "df[\"total\"] = df[\"prix\"] * df[\"quantité\"]\n",
    "print(df)\n",
    "\n",
    "somme_totale = df[\"total\"].sum()\n",
    "print(\"Somme totale des ventes :\", somme_totale)"
   ]
  },
  {
   "cell_type": "code",
   "execution_count": 55,
   "id": "1144484d-4955-49f1-a94e-5ab784b318ad",
   "metadata": {},
   "outputs": [],
   "source": [
    "ventes = pd.DataFrame({\n",
    "    \"ville\": [\"Paris\", \"Lyon\", \"Paris\", \"Marseille\", \"Lyon\"],\n",
    "    \"produit\": [\"A\", \"B\", \"A\", \"C\", \"C\"],\n",
    "    \"montant\": [100, 200, 150, 300, 250]\n",
    "})\n",
    "\n",
    "groupes = ventes.groupby(\"ville\")[\"montant\"].sum()"
   ]
  },
  {
   "cell_type": "code",
   "execution_count": 56,
   "id": "7f14105f-6263-487d-8e8e-35ae72bc929b",
   "metadata": {},
   "outputs": [
    {
     "data": {
      "text/plain": [
       "ville\n",
       "Lyon         450\n",
       "Marseille    300\n",
       "Paris        250\n",
       "Name: montant, dtype: int64"
      ]
     },
     "execution_count": 56,
     "metadata": {},
     "output_type": "execute_result"
    }
   ],
   "source": [
    "groupes"
   ]
  },
  {
   "cell_type": "code",
   "execution_count": 57,
   "id": "17db7295-fd6a-4876-8080-e762c663e2f9",
   "metadata": {},
   "outputs": [
    {
     "data": {
      "text/plain": [
       "<pandas.core.groupby.generic.SeriesGroupBy object at 0x117d05810>"
      ]
     },
     "execution_count": 57,
     "metadata": {},
     "output_type": "execute_result"
    }
   ],
   "source": [
    "ventes.groupby(\"ville\")[\"montant\"]"
   ]
  },
  {
   "cell_type": "code",
   "execution_count": null,
   "id": "a16e3399-fb9c-4128-ba32-f355b6c9bebf",
   "metadata": {},
   "outputs": [],
   "source": []
  }
 ],
 "metadata": {
  "kernelspec": {
   "display_name": "Python 3 (ipykernel)",
   "language": "python",
   "name": "python3"
  },
  "language_info": {
   "codemirror_mode": {
    "name": "ipython",
    "version": 3
   },
   "file_extension": ".py",
   "mimetype": "text/x-python",
   "name": "python",
   "nbconvert_exporter": "python",
   "pygments_lexer": "ipython3",
   "version": "3.13.5"
  }
 },
 "nbformat": 4,
 "nbformat_minor": 5
}
