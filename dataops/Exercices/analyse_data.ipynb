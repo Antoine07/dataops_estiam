{
 "cells": [
  {
   "cell_type": "code",
   "execution_count": 1,
   "id": "468af52d-51d1-48b3-8143-dd1366bf887e",
   "metadata": {},
   "outputs": [],
   "source": [
    "import numpy as np "
   ]
  },
  {
   "cell_type": "code",
   "execution_count": 7,
   "id": "344a6446-111d-4daa-bc71-63fdcdc2b511",
   "metadata": {},
   "outputs": [],
   "source": [
    "a = np.array([10, 15, 20, 25, 30, 2, 11, 10, 18, 16, 8, 19, 6, 110]) # une fois que vous avez créer ce tableau on ne peut plus rien ajouter en plus "
   ]
  },
  {
   "cell_type": "code",
   "execution_count": 11,
   "id": "8cc96bd9-3d00-47fc-878d-5bd4bed19969",
   "metadata": {},
   "outputs": [],
   "source": [
    "# valeur > 10 \n",
    "\n",
    "mask = a > 10"
   ]
  },
  {
   "cell_type": "code",
   "execution_count": 13,
   "id": "605e6fc3-e950-498c-980f-bcec2852b810",
   "metadata": {},
   "outputs": [],
   "source": [
    "numbersSup10 = a[mask]"
   ]
  },
  {
   "cell_type": "code",
   "execution_count": 14,
   "id": "7d345657-7ac1-4562-9910-23b603816c8c",
   "metadata": {},
   "outputs": [
    {
     "data": {
      "text/plain": [
       "np.int64(264)"
      ]
     },
     "execution_count": 14,
     "metadata": {},
     "output_type": "execute_result"
    }
   ],
   "source": [
    "sum(numbersSup10)"
   ]
  },
  {
   "cell_type": "code",
   "execution_count": 15,
   "id": "6efa9828-fa32-4c04-b2c1-c3a9be914487",
   "metadata": {},
   "outputs": [
    {
     "data": {
      "text/plain": [
       "array([False,  True,  True,  True,  True, False,  True, False,  True,\n",
       "        True, False,  True, False,  True])"
      ]
     },
     "execution_count": 15,
     "metadata": {},
     "output_type": "execute_result"
    }
   ],
   "source": [
    "mask"
   ]
  },
  {
   "cell_type": "code",
   "execution_count": 16,
   "id": "3e666855-6e34-4352-82f1-c7e3ef10496f",
   "metadata": {},
   "outputs": [
    {
     "data": {
      "text/plain": [
       "np.int64(9)"
      ]
     },
     "execution_count": 16,
     "metadata": {},
     "output_type": "execute_result"
    }
   ],
   "source": [
    "sum(mask)"
   ]
  },
  {
   "cell_type": "code",
   "execution_count": 18,
   "id": "b80702db-c9d7-4cdd-ad0d-1984ec8d992a",
   "metadata": {},
   "outputs": [],
   "source": [
    "# je voudrai les valeurs supérieur à 15 et inférieur 30\n",
    "\n",
    "# valeur > 15 ET valeur < 30\n",
    "\n",
    "mask = (a > 15) & (a < 30) # la syntaxe veut que si vous avez deux test logique ou comparaison il faut qu'ils soient entre parenthèses"
   ]
  },
  {
   "cell_type": "code",
   "execution_count": 19,
   "id": "a207d873-14d1-4bd5-abdc-685c3b8cace9",
   "metadata": {},
   "outputs": [
    {
     "data": {
      "text/plain": [
       "np.int64(5)"
      ]
     },
     "execution_count": 19,
     "metadata": {},
     "output_type": "execute_result"
    }
   ],
   "source": [
    "sum(mask)"
   ]
  },
  {
   "cell_type": "code",
   "execution_count": 20,
   "id": "dee19a15-071b-4385-b495-31a680b8c479",
   "metadata": {},
   "outputs": [
    {
     "data": {
      "text/plain": [
       "array([20, 25, 18, 16, 19])"
      ]
     },
     "execution_count": 20,
     "metadata": {},
     "output_type": "execute_result"
    }
   ],
   "source": [
    "a[mask]"
   ]
  },
  {
   "cell_type": "code",
   "execution_count": 21,
   "id": "2bd48019-0c3e-4e41-a850-b4e0a4e017f4",
   "metadata": {},
   "outputs": [
    {
     "data": {
      "text/plain": [
       "np.int64(3)"
      ]
     },
     "execution_count": 21,
     "metadata": {},
     "output_type": "execute_result"
    }
   ],
   "source": [
    "t = np.array([True, True, True, False ])\n",
    "sum(t)"
   ]
  },
  {
   "cell_type": "code",
   "execution_count": 22,
   "id": "b4a65fc0-510a-4c95-87ea-6e0b32e4b56d",
   "metadata": {},
   "outputs": [],
   "source": [
    "# Trouvez le nombre de valeurs qui sont supérieur à 100 et affichez les\n",
    "# Trouvez le nombre de valeur supérieur ou égale à 10"
   ]
  },
  {
   "cell_type": "code",
   "execution_count": 23,
   "id": "a526eac1-93c2-49a9-9f99-b8e44c24f043",
   "metadata": {},
   "outputs": [
    {
     "name": "stdout",
     "output_type": "stream",
     "text": [
      "1\n"
     ]
    }
   ],
   "source": [
    "mask = a > 100 \n",
    "print(sum(mask))"
   ]
  },
  {
   "cell_type": "code",
   "execution_count": 24,
   "id": "78cdcc40-38d5-41ef-8b80-37505cbc39d4",
   "metadata": {},
   "outputs": [
    {
     "data": {
      "text/plain": [
       "array([110])"
      ]
     },
     "execution_count": 24,
     "metadata": {},
     "output_type": "execute_result"
    }
   ],
   "source": [
    "a[mask]"
   ]
  },
  {
   "cell_type": "code",
   "execution_count": 26,
   "id": "9631962a-a8e8-4406-aae0-7f817ce19618",
   "metadata": {},
   "outputs": [
    {
     "data": {
      "text/plain": [
       "np.int64(11)"
      ]
     },
     "execution_count": 26,
     "metadata": {},
     "output_type": "execute_result"
    }
   ],
   "source": [
    "mask = a >=10\n",
    "sum(mask)"
   ]
  },
  {
   "cell_type": "code",
   "execution_count": 27,
   "id": "0c55b9ae-ef8f-482f-92ba-0dc57e519128",
   "metadata": {},
   "outputs": [
    {
     "data": {
      "text/plain": [
       "array([ 10,  15,  20,  25,  30,  11,  10,  18,  16,  19, 110])"
      ]
     },
     "execution_count": 27,
     "metadata": {},
     "output_type": "execute_result"
    }
   ],
   "source": [
    "a[mask]"
   ]
  },
  {
   "cell_type": "code",
   "execution_count": null,
   "id": "4525ee19-69ee-4ecf-a058-59860542bbd1",
   "metadata": {},
   "outputs": [],
   "source": []
  },
  {
   "cell_type": "code",
   "execution_count": 28,
   "id": "0d060a18-118e-47a8-9535-7020eb1c1ca9",
   "metadata": {},
   "outputs": [
    {
     "data": {
      "text/plain": [
       "array([[1, 2],\n",
       "       [3, 4]])"
      ]
     },
     "execution_count": 28,
     "metadata": {},
     "output_type": "execute_result"
    }
   ],
   "source": [
    "matrix = np.array([[1, 2], [3, 4]]) # 2D 2x2\n",
    "matrix"
   ]
  },
  {
   "cell_type": "code",
   "execution_count": 29,
   "id": "2ff6a763-66df-4104-9663-b410226af3a0",
   "metadata": {},
   "outputs": [],
   "source": [
    "# Affichez sur la première ligne la deuxième valeur"
   ]
  },
  {
   "cell_type": "code",
   "execution_count": 37,
   "id": "fd62eae2-6f80-4447-a339-7139462ecef5",
   "metadata": {},
   "outputs": [
    {
     "data": {
      "text/plain": [
       "(np.int64(2), np.int64(2))"
      ]
     },
     "execution_count": 37,
     "metadata": {},
     "output_type": "execute_result"
    }
   ],
   "source": [
    "matrix[0][1], matrix[0,1]"
   ]
  },
  {
   "cell_type": "code",
   "execution_count": 34,
   "id": "ba4aadaf-0127-446a-be38-0c963ae84ee0",
   "metadata": {},
   "outputs": [
    {
     "data": {
      "text/plain": [
       "array([1, 2])"
      ]
     },
     "execution_count": 34,
     "metadata": {},
     "output_type": "execute_result"
    }
   ],
   "source": [
    "# qu'est ce que ça fait cette ligne \n",
    "matrix[0,:]"
   ]
  },
  {
   "cell_type": "code",
   "execution_count": 38,
   "id": "7939988d-42a4-46a2-aae2-7c2ade9372ca",
   "metadata": {},
   "outputs": [],
   "source": [
    "# affichez tous les éléments de la première colonne"
   ]
  },
  {
   "cell_type": "code",
   "execution_count": 40,
   "id": "046a639a-ae92-4304-b075-bfcd3791d91f",
   "metadata": {},
   "outputs": [
    {
     "data": {
      "text/plain": [
       "array([1, 3])"
      ]
     },
     "execution_count": 40,
     "metadata": {},
     "output_type": "execute_result"
    }
   ],
   "source": [
    "matrix[:, 0] # je sélectionne toutes les lignes et je prends la première colonne"
   ]
  },
  {
   "cell_type": "code",
   "execution_count": 42,
   "id": "166fdc19-d79b-4eb6-aecc-ee8f96445479",
   "metadata": {},
   "outputs": [
    {
     "data": {
      "text/plain": [
       "array([[1, 2],\n",
       "       [3, 4]])"
      ]
     },
     "execution_count": 42,
     "metadata": {},
     "output_type": "execute_result"
    }
   ],
   "source": [
    "matrix[:, :] # toutes les lignes et toutes les colonnes"
   ]
  },
  {
   "cell_type": "code",
   "execution_count": 43,
   "id": "5abe1311-cf29-4d56-b054-9c7cefec765e",
   "metadata": {},
   "outputs": [
    {
     "data": {
      "text/plain": [
       "array([1, 2])"
      ]
     },
     "execution_count": 43,
     "metadata": {},
     "output_type": "execute_result"
    }
   ],
   "source": [
    "matrix[0]"
   ]
  },
  {
   "cell_type": "code",
   "execution_count": 47,
   "id": "f268550e-00e8-406e-85e8-2c56f8a01de2",
   "metadata": {},
   "outputs": [
    {
     "data": {
      "text/plain": [
       "array([], dtype=int64)"
      ]
     },
     "execution_count": 47,
     "metadata": {},
     "output_type": "execute_result"
    }
   ],
   "source": [
    "# LIGNE COLONNE"
   ]
  },
  {
   "cell_type": "code",
   "execution_count": 50,
   "id": "d5a8b441-fdda-41a6-8803-7b5497ec2d7b",
   "metadata": {},
   "outputs": [
    {
     "data": {
      "text/plain": [
       "array([[14, 47,  2, 78],\n",
       "       [83,  8, 91, 13],\n",
       "       [44, 33, 82, 68]])"
      ]
     },
     "execution_count": 50,
     "metadata": {},
     "output_type": "execute_result"
    }
   ],
   "source": [
    "A = np.random.randint(0, 100, size=(3, 4) )\n",
    "A"
   ]
  },
  {
   "cell_type": "code",
   "execution_count": 51,
   "id": "9a819bf6-0d48-41f4-abcf-6f40356a3615",
   "metadata": {},
   "outputs": [
    {
     "data": {
      "text/plain": [
       "array([14, 47,  2, 78])"
      ]
     },
     "execution_count": 51,
     "metadata": {},
     "output_type": "execute_result"
    }
   ],
   "source": [
    "# Affichez la première ligne puis la deuxième\n",
    "A[0,:] # A[0]"
   ]
  },
  {
   "cell_type": "code",
   "execution_count": 52,
   "id": "9f2bfa40-eb7e-43df-9301-b69ace117006",
   "metadata": {},
   "outputs": [
    {
     "data": {
      "text/plain": [
       "array([83,  8, 91, 13])"
      ]
     },
     "execution_count": 52,
     "metadata": {},
     "output_type": "execute_result"
    }
   ],
   "source": [
    "A[1,:]"
   ]
  },
  {
   "cell_type": "code",
   "execution_count": 53,
   "id": "5bb7963e-6028-424a-87e8-8b03583200ba",
   "metadata": {},
   "outputs": [
    {
     "data": {
      "text/plain": [
       "array([47,  8, 33])"
      ]
     },
     "execution_count": 53,
     "metadata": {},
     "output_type": "execute_result"
    }
   ],
   "source": [
    "# deuxième colonne \n",
    "A[:, 1]"
   ]
  },
  {
   "cell_type": "code",
   "execution_count": 54,
   "id": "730237b6-a1c3-41ca-b777-78b142018082",
   "metadata": {},
   "outputs": [
    {
     "data": {
      "text/plain": [
       "array([ 2, 78])"
      ]
     },
     "execution_count": 54,
     "metadata": {},
     "output_type": "execute_result"
    }
   ],
   "source": [
    "# Avec slicing affichez les deux derrnière valeurs de la ligne \n",
    "A[0,2:]"
   ]
  },
  {
   "cell_type": "code",
   "execution_count": 56,
   "id": "e44de3e0-3ad2-40ba-b82f-49969ac4a2ed",
   "metadata": {},
   "outputs": [],
   "source": [
    "collect = np.zeros((2,3))"
   ]
  },
  {
   "cell_type": "code",
   "execution_count": 57,
   "id": "31223fd1-e81c-4573-917e-d68d8c94799a",
   "metadata": {},
   "outputs": [],
   "source": [
    "collect[0, 0] = 1"
   ]
  },
  {
   "cell_type": "code",
   "execution_count": 58,
   "id": "d651f58d-8862-48d9-9021-e054d8b36832",
   "metadata": {},
   "outputs": [
    {
     "data": {
      "text/plain": [
       "array([[1., 0., 0.],\n",
       "       [0., 0., 0.]])"
      ]
     },
     "execution_count": 58,
     "metadata": {},
     "output_type": "execute_result"
    }
   ],
   "source": [
    "collect"
   ]
  },
  {
   "cell_type": "code",
   "execution_count": 59,
   "id": "eef34e48-60b9-45b8-88f4-50ae363b15be",
   "metadata": {},
   "outputs": [],
   "source": [
    "B = np.array([1, 2, 3])"
   ]
  },
  {
   "cell_type": "code",
   "execution_count": 60,
   "id": "52b0e3cc-146d-4b42-b6cb-662ad339ee91",
   "metadata": {},
   "outputs": [
    {
     "data": {
      "text/plain": [
       "array([1, 4, 9])"
      ]
     },
     "execution_count": 60,
     "metadata": {},
     "output_type": "execute_result"
    }
   ],
   "source": [
    "B**2"
   ]
  },
  {
   "cell_type": "code",
   "execution_count": 63,
   "id": "a19c0de0-83d9-46fc-91ae-5e16ab14b126",
   "metadata": {},
   "outputs": [],
   "source": [
    "B = 2*B + B**2 + 2 # equation du second degré vectorisé "
   ]
  },
  {
   "cell_type": "code",
   "execution_count": 65,
   "id": "d977477c-ea8b-4823-be17-f8ad07188a55",
   "metadata": {},
   "outputs": [
    {
     "data": {
      "text/plain": [
       "array([ 4. ,  8. , 13.6])"
      ]
     },
     "execution_count": 65,
     "metadata": {},
     "output_type": "execute_result"
    }
   ],
   "source": [
    "B*0.8 # baisse de 20% de chacune de nos valeurs"
   ]
  },
  {
   "cell_type": "code",
   "execution_count": 66,
   "id": "ed298cdb-8d79-461c-9816-0f04144de4a9",
   "metadata": {},
   "outputs": [
    {
     "data": {
      "text/plain": [
       "np.float64(10.666666666666666)"
      ]
     },
     "execution_count": 66,
     "metadata": {},
     "output_type": "execute_result"
    }
   ],
   "source": [
    "B.mean()"
   ]
  },
  {
   "cell_type": "code",
   "execution_count": 67,
   "id": "ef361151-d50a-42ab-af2b-b0397a13d748",
   "metadata": {},
   "outputs": [
    {
     "data": {
      "text/plain": [
       "<function sum at 0x1078f6fb0>"
      ]
     },
     "execution_count": 67,
     "metadata": {},
     "output_type": "execute_result"
    }
   ],
   "source": [
    "np.sum"
   ]
  },
  {
   "cell_type": "code",
   "execution_count": null,
   "id": "5338c1a2-b577-4034-878d-34ddc42d8985",
   "metadata": {},
   "outputs": [],
   "source": []
  }
 ],
 "metadata": {
  "kernelspec": {
   "display_name": "Python 3 (ipykernel)",
   "language": "python",
   "name": "python3"
  },
  "language_info": {
   "codemirror_mode": {
    "name": "ipython",
    "version": 3
   },
   "file_extension": ".py",
   "mimetype": "text/x-python",
   "name": "python",
   "nbconvert_exporter": "python",
   "pygments_lexer": "ipython3",
   "version": "3.13.5"
  }
 },
 "nbformat": 4,
 "nbformat_minor": 5
}
