{
 "cells": [
  {
   "cell_type": "code",
   "execution_count": 9,
   "id": "12c29a81-1be6-484c-b725-82f050d0e167",
   "metadata": {},
   "outputs": [],
   "source": [
    "raw_data = [\n",
    "  {\n",
    "    \"order_id\": 1,\n",
    "    \"customer\": {\"name\": \"Alice\", \"email\": \"alice@mail.com\"},\n",
    "    \"items\": [\n",
    "        {\"product\": \"Laptop\", \"quantity\": 1, \"price\": 1200},\n",
    "        {\"product\": \"Mouse\", \"quantity\": 2, \"price\": 25},\n",
    "    ],\n",
    "    \"date\": \"2024-06-10\"\n",
    "  },\n",
    "  {\n",
    "    \"order_id\": 2,\n",
    "    \"customer\": {\"name\": \"Bob\", \"email\": \"bob@mail.com\"},\n",
    "    \"items\": [\n",
    "        {\"product\": \"Monitor\", \"quantity\": 1, \"price\": 300},\n",
    "    ],\n",
    "    \"date\": \"2024-06-12\"\n",
    "  }\n",
    "]\n",
    "\n",
    "class OrderItem:\n",
    "    def __init__(self, product, quantity, price):\n",
    "        self.product = product\n",
    "        self.quantity = quantity\n",
    "        self.price = price\n",
    "        \n",
    "\n",
    "class Customer:\n",
    "    def __init__(self, name, email):\n",
    "        self.name = name\n",
    "        self.email = email \n",
    "        \n",
    "class Order:\n",
    "    def __init__(self, order_id, customer, items, date):\n",
    "        self.order_id = order_id\n",
    "        self.customer = Customer(\n",
    "            name=customer['name'], \n",
    "            email=customer['email']\n",
    "        )\n",
    "        self.items = [OrderItem(\n",
    "            product=item['product'],\n",
    "            quantity=item['quantity'],\n",
    "            price=item['price']\n",
    "            ) for item in items]\n",
    "        self.date = date\n",
    "        \n",
    "    def display_summary(self):\n",
    "        total_amount = sum( item.quantity * item.price for item in self.items )\n",
    "\n",
    "        # le f permet devant la chaine de caractères d'insérer dans les accolades des variables dynamiquement\n",
    "        return f\"Order {self.order_id} by {self.customer.name} on {self.date}: Total ${total_amount}\"\n",
    "       \n",
    "\n",
    "\n",
    "orders = [ Order(**data) for data in raw_data ]"
   ]
  },
  {
   "cell_type": "code",
   "execution_count": 22,
   "id": "4a656f23-2b74-4862-b954-6c9751898d1c",
   "metadata": {},
   "outputs": [],
   "source": [
    "# Calculez le chiffre d’affaires total\n",
    "\n",
    "def total_sales(orders):\n",
    "    total = 0\n",
    "    for order in orders:\n",
    "        for item in order.items:\n",
    "            total += item.quantity * item.price\n",
    "\n",
    "    return total "
   ]
  },
  {
   "cell_type": "code",
   "execution_count": 23,
   "id": "fa5b6876-e8fc-4345-9878-e70a6f688254",
   "metadata": {},
   "outputs": [
    {
     "data": {
      "text/plain": [
       "1550"
      ]
     },
     "execution_count": 23,
     "metadata": {},
     "output_type": "execute_result"
    }
   ],
   "source": [
    "total_sales(orders)"
   ]
  },
  {
   "cell_type": "code",
   "execution_count": null,
   "id": "b4e5d2d3-0457-4482-b0ed-cd86e640a36e",
   "metadata": {},
   "outputs": [],
   "source": []
  }
 ],
 "metadata": {
  "kernelspec": {
   "display_name": "Python 3 (ipykernel)",
   "language": "python",
   "name": "python3"
  },
  "language_info": {
   "codemirror_mode": {
    "name": "ipython",
    "version": 3
   },
   "file_extension": ".py",
   "mimetype": "text/x-python",
   "name": "python",
   "nbconvert_exporter": "python",
   "pygments_lexer": "ipython3",
   "version": "3.13.5"
  }
 },
 "nbformat": 4,
 "nbformat_minor": 5
}
